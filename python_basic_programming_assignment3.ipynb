{
 "cells": [
  {
   "cell_type": "raw",
   "metadata": {},
   "source": [
    "1.Write a Python Program to Check if a Number is Positive, Negative or Zero?"
   ]
  },
  {
   "cell_type": "code",
   "execution_count": 1,
   "metadata": {},
   "outputs": [
    {
     "name": "stdout",
     "output_type": "stream",
     "text": [
      "Enter a number:12\n",
      "the number is positive number\n"
     ]
    }
   ],
   "source": [
    "\n",
    "a=int(input(\"Enter a number:\")) #taking user input\n",
    "#checking a number is positive,negative or zero using conditional statement\n",
    "if a>0:\n",
    "    print(\"the number is positive number\")\n",
    "elif a==0:\n",
    "    print(\"the number is zero number\")\n",
    "else:\n",
    "    print(\"the number is negative number\")"
   ]
  },
  {
   "cell_type": "raw",
   "metadata": {},
   "source": [
    "2. Write a Python Program to Check if a Number is Odd or Even?"
   ]
  },
  {
   "cell_type": "code",
   "execution_count": 3,
   "metadata": {},
   "outputs": [
    {
     "name": "stdout",
     "output_type": "stream",
     "text": [
      "Enter the number12\n",
      "even number 12\n"
     ]
    }
   ],
   "source": [
    "a=int(input(\"Enter the number\"))\n",
    "#a%2 will give remainder so if the number is divisible by 2 and give remainder 0\n",
    "if a%2==0:\n",
    "    print(\"even number\",str(a))\n",
    "else:\n",
    "    print(\"odd number\",str(a))"
   ]
  },
  {
   "cell_type": "raw",
   "metadata": {},
   "source": [
    "3. Write a Python Program to Check Leap Year?"
   ]
  },
  {
   "cell_type": "code",
   "execution_count": 5,
   "metadata": {},
   "outputs": [
    {
     "name": "stdout",
     "output_type": "stream",
     "text": [
      "Enter the year:2020\n",
      "leap year 2020\n"
     ]
    }
   ],
   "source": [
    "year=int(input(\"Enter the year:\"))\n",
    "#year%4 define if any year which is divisible by 4 and give remainder 0 is a leap year\n",
    "if year%4==0:\n",
    "    print(\"leap year\",str(year))\n",
    "else:\n",
    "    print(\"not a leap year\",str(year))\n",
    "         "
   ]
  },
  {
   "cell_type": "raw",
   "metadata": {},
   "source": [
    "4. Write a Python Program to Check Prime Number?"
   ]
  },
  {
   "cell_type": "code",
   "execution_count": 10,
   "metadata": {},
   "outputs": [
    {
     "name": "stdout",
     "output_type": "stream",
     "text": [
      "enter the number:11\n",
      "11 is a prime number\n"
     ]
    }
   ],
   "source": [
    "num =int(input(\"enter the number:\"))\n",
    "  \n",
    "# If given number is greater than 1\n",
    "if num > 1:\n",
    "  \n",
    "    # Iterate from 2 to n / 2\n",
    "    for i in range(2, int(num/2)+1):\n",
    "  \n",
    "        # If num is divisible by any number between\n",
    "        # 2 and n / 2, it is not prime\n",
    "        if (num % i) == 0:\n",
    "            print(num, \"is not a prime number\")\n",
    "            break\n",
    "    else:\n",
    "        print(num, \"is a prime number\")\n",
    "  \n",
    "else:\n",
    "    print(num, \"is not a prime number\")"
   ]
  },
  {
   "cell_type": "raw",
   "metadata": {},
   "source": [
    "5. Write a Python Program to Print all Prime Numbers in an Interval of 1-10000?"
   ]
  },
  {
   "cell_type": "code",
   "execution_count": 4,
   "metadata": {},
   "outputs": [
    {
     "name": "stdout",
     "output_type": "stream",
     "text": [
      "Enter the number:1\n",
      "Enter the number:1000\n",
      "Prime numbers between 1 - 1000 are:\n",
      "2\n",
      "3\n",
      "5\n",
      "7\n",
      "11\n",
      "13\n",
      "17\n",
      "19\n",
      "23\n",
      "29\n",
      "31\n",
      "37\n",
      "41\n",
      "43\n",
      "47\n",
      "53\n",
      "59\n",
      "61\n",
      "67\n",
      "71\n",
      "73\n",
      "79\n",
      "83\n",
      "89\n",
      "97\n",
      "101\n",
      "103\n",
      "107\n",
      "109\n",
      "113\n",
      "127\n",
      "131\n",
      "137\n",
      "139\n",
      "149\n",
      "151\n",
      "157\n",
      "163\n",
      "167\n",
      "173\n",
      "179\n",
      "181\n",
      "191\n",
      "193\n",
      "197\n",
      "199\n",
      "211\n",
      "223\n",
      "227\n",
      "229\n",
      "233\n",
      "239\n",
      "241\n",
      "251\n",
      "257\n",
      "263\n",
      "269\n",
      "271\n",
      "277\n",
      "281\n",
      "283\n",
      "293\n",
      "307\n",
      "311\n",
      "313\n",
      "317\n",
      "331\n",
      "337\n",
      "347\n",
      "349\n",
      "353\n",
      "359\n",
      "367\n",
      "373\n",
      "379\n",
      "383\n",
      "389\n",
      "397\n",
      "401\n",
      "409\n",
      "419\n",
      "421\n",
      "431\n",
      "433\n",
      "439\n",
      "443\n",
      "449\n",
      "457\n",
      "461\n",
      "463\n",
      "467\n",
      "479\n",
      "487\n",
      "491\n",
      "499\n",
      "503\n",
      "509\n",
      "521\n",
      "523\n",
      "541\n",
      "547\n",
      "557\n",
      "563\n",
      "569\n",
      "571\n",
      "577\n",
      "587\n",
      "593\n",
      "599\n",
      "601\n",
      "607\n",
      "613\n",
      "617\n",
      "619\n",
      "631\n",
      "641\n",
      "643\n",
      "647\n",
      "653\n",
      "659\n",
      "661\n",
      "673\n",
      "677\n",
      "683\n",
      "691\n",
      "701\n",
      "709\n",
      "719\n",
      "727\n",
      "733\n",
      "739\n",
      "743\n",
      "751\n",
      "757\n",
      "761\n",
      "769\n",
      "773\n",
      "787\n",
      "797\n",
      "809\n",
      "811\n",
      "821\n",
      "823\n",
      "827\n",
      "829\n",
      "839\n",
      "853\n",
      "857\n",
      "859\n",
      "863\n",
      "877\n",
      "881\n",
      "883\n",
      "887\n",
      "907\n",
      "911\n",
      "919\n",
      "929\n",
      "937\n",
      "941\n",
      "947\n",
      "953\n",
      "967\n",
      "971\n",
      "977\n",
      "983\n",
      "991\n",
      "997\n"
     ]
    }
   ],
   "source": [
    "lower =int(input(\"Enter the number:\"))\n",
    "upper =int(input(\"Enter the number:\"))\n",
    "\n",
    "print(\"Prime numbers between\", lower,\"-\",upper, \"are:\")\n",
    "\n",
    "for num in range(lower, upper + 1):\n",
    "   # all prime numbers are greater than 1\n",
    "   if num > 1:\n",
    "       for i in range(2, num):\n",
    "           if (num % i) == 0:\n",
    "               break\n",
    "       else:\n",
    "           print(num)"
   ]
  }
 ],
 "metadata": {
  "kernelspec": {
   "display_name": "Python 3",
   "language": "python",
   "name": "python3"
  },
  "language_info": {
   "codemirror_mode": {
    "name": "ipython",
    "version": 3
   },
   "file_extension": ".py",
   "mimetype": "text/x-python",
   "name": "python",
   "nbconvert_exporter": "python",
   "pygments_lexer": "ipython3",
   "version": "3.8.3"
  }
 },
 "nbformat": 4,
 "nbformat_minor": 4
}
