{
 "cells": [
  {
   "cell_type": "raw",
   "metadata": {},
   "source": [
    "1. Write a Python Program to Find the Factorial of a Number?"
   ]
  },
  {
   "cell_type": "code",
   "execution_count": 8,
   "metadata": {},
   "outputs": [
    {
     "name": "stdout",
     "output_type": "stream",
     "text": [
      "Enter the number:5\n",
      "Factorial of 5 is 120\n"
     ]
    }
   ],
   "source": [
    "num=int(input(\"Enter the number:\"))#Taking user input\n",
    "factorial=1\n",
    "#checking conditions for negative ,positive and zero\n",
    "if num>0:\n",
    "    for i in range(1,num+1):\n",
    "        factorial=factorial*i\n",
    "    print(\"Factorial of\",num ,\"is\",factorial)\n",
    "elif num<0:\n",
    "    print(\"the factorial for negative number doesn't exist\")\n",
    "    \n",
    "else:\n",
    "    print(\"the factorial of 0 is 1\")\n",
    "    \n",
    "#5!=5*4*3*2*1=120\n",
    "        "
   ]
  },
  {
   "cell_type": "raw",
   "metadata": {},
   "source": [
    "2. Write a Python Program to Display the multiplication Table?"
   ]
  },
  {
   "cell_type": "code",
   "execution_count": 15,
   "metadata": {},
   "outputs": [
    {
     "name": "stdout",
     "output_type": "stream",
     "text": [
      "Enter the multiplication table of:12\n",
      "12 x 1 = 12\n",
      "12 x 2 = 24\n",
      "12 x 3 = 36\n",
      "12 x 4 = 48\n",
      "12 x 5 = 60\n",
      "12 x 6 = 72\n",
      "12 x 7 = 84\n",
      "12 x 8 = 96\n",
      "12 x 9 = 108\n",
      "12 x 10 = 120\n"
     ]
    }
   ],
   "source": [
    "\n",
    "\n",
    "num=int(input(\"Enter the multiplication table of:\" ))#user input\n",
    "\n",
    "\n",
    "for i in range(1,11):#num get multiplied upto 10\n",
    "    \n",
    "    print(num, 'x', i, '=', num*i)#it will give table form\n",
    "       \n",
    "        \n",
    "            \n",
    "            \n",
    "    \n",
    "        \n"
   ]
  },
  {
   "cell_type": "code",
   "execution_count": 18,
   "metadata": {},
   "outputs": [
    {
     "name": "stdout",
     "output_type": "stream",
     "text": [
      "Enter the multiplication table from 1 to 5\n",
      "1 x 1 = 1\n",
      "1 x 2 = 2\n",
      "1 x 3 = 3\n",
      "1 x 4 = 4\n",
      "1 x 5 = 5\n",
      "1 x 6 = 6\n",
      "1 x 7 = 7\n",
      "1 x 8 = 8\n",
      "1 x 9 = 9\n",
      "1 x 10 = 10\n",
      "2 x 1 = 2\n",
      "2 x 2 = 4\n",
      "2 x 3 = 6\n",
      "2 x 4 = 8\n",
      "2 x 5 = 10\n",
      "2 x 6 = 12\n",
      "2 x 7 = 14\n",
      "2 x 8 = 16\n",
      "2 x 9 = 18\n",
      "2 x 10 = 20\n",
      "3 x 1 = 3\n",
      "3 x 2 = 6\n",
      "3 x 3 = 9\n",
      "3 x 4 = 12\n",
      "3 x 5 = 15\n",
      "3 x 6 = 18\n",
      "3 x 7 = 21\n",
      "3 x 8 = 24\n",
      "3 x 9 = 27\n",
      "3 x 10 = 30\n",
      "4 x 1 = 4\n",
      "4 x 2 = 8\n",
      "4 x 3 = 12\n",
      "4 x 4 = 16\n",
      "4 x 5 = 20\n",
      "4 x 6 = 24\n",
      "4 x 7 = 28\n",
      "4 x 8 = 32\n",
      "4 x 9 = 36\n",
      "4 x 10 = 40\n",
      "5 x 1 = 5\n",
      "5 x 2 = 10\n",
      "5 x 3 = 15\n",
      "5 x 4 = 20\n",
      "5 x 5 = 25\n",
      "5 x 6 = 30\n",
      "5 x 7 = 35\n",
      "5 x 8 = 40\n",
      "5 x 9 = 45\n",
      "5 x 10 = 50\n"
     ]
    }
   ],
   "source": [
    "# this program willgive many tables at a time\n",
    "num=int(input(\"Enter the multiplication table from 1 to \" ))\n",
    "\n",
    "\n",
    "for j in range(1,num+1):# it will iterate upto where we want table if we want table from 1 to 12 it give all tables from 1 to 12\n",
    "    for i in range(1,11):#this loop will use for inner operations i.e it will multiply 1 upto 10,then 2 multiply upto 10 etc.\n",
    "    \n",
    "        print(j, 'x', i, '=', j*i)\n",
    "       "
   ]
  },
  {
   "cell_type": "raw",
   "metadata": {},
   "source": [
    "3. Write a Python Program to Print the Fibonacci sequence?"
   ]
  },
  {
   "cell_type": "code",
   "execution_count": 5,
   "metadata": {},
   "outputs": [
    {
     "data": {
      "text/plain": [
       "144"
      ]
     },
     "execution_count": 5,
     "metadata": {},
     "output_type": "execute_result"
    }
   ],
   "source": [
    "#simple program only for 1 term using function\n",
    "# Taking 1st two fibonacci numbers as 0 and 1\n",
    "def Fibonacci(n):\n",
    "    if n<0:\n",
    "        print(\"incorrect input\")\n",
    "        \n",
    "    elif n==0:\n",
    "        return 0\n",
    "    \n",
    "    elif n==1:\n",
    "        return 1\n",
    "    \n",
    "    else:\n",
    "        return Fibonacci(n-1)+Fibonacci(n-2)\n",
    "    \n",
    "Fibonacci(12)# is 12th fibonacci number \n",
    "    \n",
    "        "
   ]
  },
  {
   "cell_type": "code",
   "execution_count": 4,
   "metadata": {},
   "outputs": [
    {
     "data": {
      "text/plain": [
       "144"
      ]
     },
     "execution_count": 4,
     "metadata": {},
     "output_type": "execute_result"
    }
   ],
   "source": [
    "Fibonacci(12)"
   ]
  },
  {
   "cell_type": "code",
   "execution_count": 13,
   "metadata": {},
   "outputs": [
    {
     "name": "stdout",
     "output_type": "stream",
     "text": [
      "How many terms?  :25\n",
      "Fibonacci sequence:\n",
      "0\n",
      "1\n",
      "1\n",
      "2\n",
      "3\n",
      "5\n",
      "8\n",
      "13\n",
      "21\n",
      "34\n",
      "55\n",
      "89\n",
      "144\n",
      "233\n",
      "377\n",
      "610\n",
      "987\n",
      "1597\n",
      "2584\n",
      "4181\n",
      "6765\n",
      "10946\n",
      "17711\n",
      "28657\n",
      "46368\n"
     ]
    }
   ],
   "source": [
    "#Program for fibonacci series upto nth term\n",
    "nterms=int(input(\"How many terms?  :\"))\n",
    "\n",
    "#first two terms\n",
    "n1,n2=0,1\n",
    "count=0\n",
    "#check if number of terms is valid\n",
    "\n",
    "if nterms<0:\n",
    "    print(\"incorrect input\")\n",
    "    \n",
    "elif nterms==1:\n",
    "    print(\"Fibonacci sequence upto\" ,nterms ,\":\")\n",
    "    print(n1)\n",
    "    \n",
    "else:\n",
    "    print(\"Fibonacci sequence:\")\n",
    "    while count < nterms:\n",
    "        print(n1)\n",
    "        nth=n1+n2\n",
    "        #update values\n",
    "        n1=n2\n",
    "        n2=nth\n",
    "        count+=1\n",
    "    \n"
   ]
  },
  {
   "cell_type": "raw",
   "metadata": {},
   "source": [
    "4. Write a Python Program to Check Armstrong Number?"
   ]
  },
  {
   "cell_type": "code",
   "execution_count": 16,
   "metadata": {},
   "outputs": [
    {
     "name": "stdout",
     "output_type": "stream",
     "text": [
      "Enter the number:153\n",
      "153 is an armstrong number\n"
     ]
    }
   ],
   "source": [
    "#Program to check if number is armstrong or not\n",
    "\n",
    "num=int(input(\"Enter the number:\"))\n",
    "\n",
    "#intializing sum\n",
    "sum=0\n",
    "\n",
    "#find the sum of the cube of each digit\n",
    "temp=num\n",
    "while temp > 0:\n",
    "    digit=temp % 10\n",
    "    sum+= digit**3\n",
    "    temp//= 10\n",
    "    \n",
    "if num==sum:\n",
    "    \n",
    "    print(num,\"is an armstrong number\")\n",
    "        \n",
    "else:\n",
    "    \n",
    "    print(num,\"is not an armstrong number\")\n",
    "    \n",
    "#Armstrong number : 153=1**3+5**3+3**3=153"
   ]
  },
  {
   "cell_type": "raw",
   "metadata": {},
   "source": [
    "5. Write a Python Program to Find Armstrong Number in an Interval?"
   ]
  },
  {
   "cell_type": "code",
   "execution_count": 12,
   "metadata": {},
   "outputs": [
    {
     "name": "stdout",
     "output_type": "stream",
     "text": [
      "Enter the lower range100\n",
      "Enter the upper range2000\n",
      "153\n",
      "370\n",
      "371\n",
      "407\n",
      "1634\n"
     ]
    }
   ],
   "source": [
    "#program to armstrong number in certain range\n",
    "\n",
    "a=int(input(\"Enter the lower range\"))\n",
    "b=int(input(\"Enter the upper range\"))\n",
    "\n",
    "for num in range(a,b):\n",
    "    \n",
    "    #order of number\n",
    "    order=len(str(num))\n",
    "    \n",
    "    #initialize sum\n",
    "    sum=0\n",
    "    \n",
    "    temp=num\n",
    "    while temp>0:\n",
    "        digit=temp%10\n",
    "        sum+= digit**order\n",
    "        temp//= 10\n",
    "       \n",
    "    if num==sum:\n",
    "        print(num)\n",
    "        \n",
    "        \n",
    "    \n",
    "    \n",
    "    \n",
    "\n"
   ]
  },
  {
   "cell_type": "raw",
   "metadata": {},
   "source": [
    "6. Write a Python Program to Find the Sum of Natural Numbers?"
   ]
  },
  {
   "cell_type": "code",
   "execution_count": 15,
   "metadata": {},
   "outputs": [
    {
     "name": "stdout",
     "output_type": "stream",
     "text": [
      "Enter the number:23\n",
      "The sum is 276\n"
     ]
    }
   ],
   "source": [
    "# Sum of natural numbers up to num\n",
    "\n",
    "\n",
    "num = int(input(\"Enter the number:\"))\n",
    "\n",
    "if num < 0:\n",
    "    print(\"Enter a positive number\")\n",
    "    \n",
    "else:\n",
    "    \n",
    "    #initializing sum\n",
    "    sum=0\n",
    "   \n",
    " #use while loop to iterate until zero.\n",
    "#In each iteration of the loop , we have added num to sum and the value of num is decreased by 1\n",
    "    while(num > 0):\n",
    "        sum+=num\n",
    "       \n",
    "        num -= 1\n",
    "        \n",
    "    print(\"The sum is\", sum)"
   ]
  },
  {
   "cell_type": "code",
   "execution_count": null,
   "metadata": {},
   "outputs": [],
   "source": []
  }
 ],
 "metadata": {
  "kernelspec": {
   "display_name": "Python 3",
   "language": "python",
   "name": "python3"
  },
  "language_info": {
   "codemirror_mode": {
    "name": "ipython",
    "version": 3
   },
   "file_extension": ".py",
   "mimetype": "text/x-python",
   "name": "python",
   "nbconvert_exporter": "python",
   "pygments_lexer": "ipython3",
   "version": "3.8.3"
  }
 },
 "nbformat": 4,
 "nbformat_minor": 4
}
