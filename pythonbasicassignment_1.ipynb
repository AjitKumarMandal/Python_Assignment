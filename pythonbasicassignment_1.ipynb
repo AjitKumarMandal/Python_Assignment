{
 "cells": [
  {
   "cell_type": "raw",
   "metadata": {},
   "source": [
    "1. In the below elements which of them are values or an expression? eg:- values can be\n",
    "integer or string and expressions will be mathematical operators.\n",
    "*\n",
    "&#39;hello&#39;\n",
    "-87.8\n",
    "-\n",
    "/\n",
    "+\n",
    "6"
   ]
  },
  {
   "cell_type": "raw",
   "metadata": {},
   "source": [
    "Answer:\n",
    "*=mathematical operator used for multiplication\n",
    "&-expression usd for and operation\n",
    "#-expression used for comment\n",
    "39-an integer value\n",
    "hello-string\n",
    "&-used for and operation\n",
    "#39;-comment holding an integer value and ending with semicolon\n",
    ";-A semi-colon in Python denotes separation, rather than termination. It allows  to write multiple statements on the same line.\n",
    "-87.8=an integer value\n",
    "-=a mathematical operator used for subtraction\n",
    "/=a mathematic operator used for division\n",
    "+=a mathematical operator used for division\n",
    "6-an integer value"
   ]
  },
  {
   "cell_type": "raw",
   "metadata": {},
   "source": [
    "2. What is the difference between string and variable?"
   ]
  },
  {
   "cell_type": "raw",
   "metadata": {},
   "source": [
    "Answer:\n",
    "String:A string is a data type used in programming, such as an integer and floating point unit, but is used to represent text rather than numbers. It is comprised of a set of characters that can also contain spaces and numbers.\n",
    "\n",
    "Strings in python are surrounded by either single quotation marks, or double quotation marks.\n",
    "\n",
    "# defining strings in Python\n",
    "# all of the following are equivalent\n",
    "my_string = 'Hello'\n",
    "\n",
    "my_string = \"Hello\"\n",
    "\n",
    "my_string = '''Hello'''\n",
    "\n",
    "\n",
    "Variable: 1.Variables are containers for storing data values. \n",
    "2.A variable is created the moment you first assign a value to it.\n",
    "3.Variables do not need to be declared with any particular type, and can even change type after they have been set.\n",
    "\n",
    "Example:\n",
    "a=20\n",
    "the value 20 is assigned to variable a\n",
    "b='ineuron'\n",
    "a string is stored in variable b.\n",
    "\n",
    "    "
   ]
  },
  {
   "cell_type": "code",
   "execution_count": 2,
   "metadata": {},
   "outputs": [
    {
     "name": "stdout",
     "output_type": "stream",
     "text": [
      "ineuron\n",
      "60\n"
     ]
    }
   ],
   "source": [
    "#Example of variable \n",
    "string='ineuron'\n",
    "print(string)\n",
    "#Example of variable\n",
    "a=20\n",
    "b=40\n",
    "c=a+b\n",
    "print(c)"
   ]
  },
  {
   "cell_type": "raw",
   "metadata": {},
   "source": [
    "3. Describe three different data types.\n",
    "\n",
    "Python has following types of data types:\n",
    "\n",
    "1.Numeric data type\n",
    "\n",
    "int-Int, or integer, is a whole number, positive or negative, without decimals, of unlimited length.\n",
    "Example:x=123 \n",
    "\n",
    "float-Float, or \"floating point number\" is a number, positive or negative, containing one or more decimals.Float can also be scientific numbers with an \"e\" to indicate the power of 10.\n",
    "Example:a=3.4\n",
    "b=-3.098\n",
    "x = 35e3\n",
    "y = 12E4\n",
    "z = -87.7e100\n",
    "\n",
    "complex:Complex numbers are written with a \"j\" as the imaginary part.It is written in format a+bj where a is real part and b is imaginary part.\n",
    "\n",
    "Example:\n",
    "\n",
    "a=3+4j\n",
    "b=5-7j\n",
    "\n",
    "\n",
    "\n"
   ]
  },
  {
   "cell_type": "code",
   "execution_count": 6,
   "metadata": {},
   "outputs": [
    {
     "name": "stdout",
     "output_type": "stream",
     "text": [
      "123\n"
     ]
    },
    {
     "data": {
      "text/plain": [
       "int"
      ]
     },
     "execution_count": 6,
     "metadata": {},
     "output_type": "execute_result"
    }
   ],
   "source": [
    "#Execcution of numeric data types\n",
    "x=123\n",
    "print(x)\n",
    "type(x)"
   ]
  },
  {
   "cell_type": "code",
   "execution_count": 5,
   "metadata": {},
   "outputs": [
    {
     "name": "stdout",
     "output_type": "stream",
     "text": [
      "120000.0\n"
     ]
    },
    {
     "data": {
      "text/plain": [
       "float"
      ]
     },
     "execution_count": 5,
     "metadata": {},
     "output_type": "execute_result"
    }
   ],
   "source": [
    "y=12E4\n",
    "print(y)\n",
    "type(y)\n"
   ]
  },
  {
   "cell_type": "code",
   "execution_count": 7,
   "metadata": {},
   "outputs": [
    {
     "name": "stdout",
     "output_type": "stream",
     "text": [
      "(3+4j)\n"
     ]
    },
    {
     "data": {
      "text/plain": [
       "complex"
      ]
     },
     "execution_count": 7,
     "metadata": {},
     "output_type": "execute_result"
    }
   ],
   "source": [
    "z=3+4j\n",
    "print(z)\n",
    "type(z)"
   ]
  },
  {
   "cell_type": "code",
   "execution_count": 9,
   "metadata": {},
   "outputs": [
    {
     "data": {
      "text/plain": [
       "3.0"
      ]
     },
     "execution_count": 9,
     "metadata": {},
     "output_type": "execute_result"
    }
   ],
   "source": [
    "z.real"
   ]
  },
  {
   "cell_type": "code",
   "execution_count": 10,
   "metadata": {},
   "outputs": [
    {
     "data": {
      "text/plain": [
       "4.0"
      ]
     },
     "execution_count": 10,
     "metadata": {},
     "output_type": "execute_result"
    }
   ],
   "source": [
    "z.imag"
   ]
  },
  {
   "cell_type": "raw",
   "metadata": {},
   "source": [
    "2.Text type:String:Strings in python are surrounded by either single quotation marks, or double quotation marks.\n",
    "\n",
    "'hello' is the same as \"hello\".\n",
    "a='ineuron'\n",
    "\n",
    "3.Boolean Type:bool:Booleans represent one of two values: True or False\n",
    "The bool() function allows you to evaluate any value, and give you True or False in return.\n",
    "In programming you often need to know if an expression is True or False.\n",
    "\n",
    "You can evaluate any expression in Python, and get one of two answers, True or False.\n",
    "\n",
    "When you compare two values, the expression is evaluated and Python returns the Boolean answer.\n",
    "\n"
   ]
  },
  {
   "cell_type": "code",
   "execution_count": 12,
   "metadata": {},
   "outputs": [
    {
     "name": "stdout",
     "output_type": "stream",
     "text": [
      "False\n",
      "True\n"
     ]
    }
   ],
   "source": [
    "print(5%2==0)\n",
    "print(4>=2)\n",
    "print(\"Hello\")#String data type"
   ]
  },
  {
   "cell_type": "raw",
   "metadata": {},
   "source": [
    "4. What is an expression made up of? What do all expressions do?"
   ]
  },
  {
   "cell_type": "raw",
   "metadata": {},
   "source": [
    "Ans.\n",
    "An expression is a combination of values, variables, operators, and calls to functions. Expressions need to be evaluated. If you ask Python to print an expression, the interpreter evaluates the expression and displays the result.\n",
    "\n",
    "All expression perform certain operation i.e arithmetic operation,logical operation etc.\n",
    "Different types of expression:\n",
    "1. Constant Expressions: These are the expressions that have constant values only.\n",
    "Example:x = 15 + 1.3\n",
    "        print(x)\n",
    "        \n",
    "        o/p:16.3\n",
    "\n",
    "\n",
    "2. Arithmetic Expressions: An arithmetic expression is a combination of numeric values, operators, and sometimes parenthesis. The result of this type of expression is also a numeric value. The operators used in these expressions are arithmetic operators like addition, subtraction, etc.\n",
    "Operators Syntax\t Functioning\n",
    "+\t       x + y\t  Addition      \n",
    "–\t       x – y\t  Subtraction             \n",
    "*\t       x * y\t  Multiplication       \n",
    "/\t\t   x / y      Division\n",
    "//     \t   x // y     Quotient  \n",
    "%\t\t   x % y      Remainder\n",
    "\n",
    "3. Logical Expressions: These are kinds of expressions that result in either True or False. It basically specifies one or more conditions. For example, (10 == 9) is a condition if 10 is equal to 9. As we know it is not correct, so it will return False.\n",
    "logical operators:\n",
    "Operator\tSyntax\t      Functioning\n",
    "and\t        P and Q\t      It returns true if both P and Q are true otherwise returns false\n",
    "or\t        P or Q\t      It returns true if at least one of P and Q is true\n",
    "not\t        not P\t      It returns true if condition P is false\n",
    "\n",
    "4.Multiple operators in expression (Operator Precedence)\n",
    "It’s a quite simple process to get the result of an expression if there is only one operator in an expression. But if there is more than one operator in an expression, it may give different results on basis of the order of operators executed. To sort out these confusions, the operator precedence is defined. Operator Precedence simply defines the priority of operators that which operator is to be executed first. \n",
    "Precedence\tName\t                                Operator\n",
    "1\t        Parenthesis   \t                      ( ) [ ] { }\n",
    "2\t        Exponentiation\t                         **\n",
    "3\t        Unary plus or minus, complement \t -a , +a , ~a\n",
    "4\t        Multiply, Divide, Modulo  \t        /  *  //  %\n",
    "5\t       Addition & Subtraction \t                 +  –\n",
    "6\t        Shift Operators                      \t>>  <<\n",
    "7\t         Bitwise                              AND\t&\n",
    "8\t        Bitwise                                XOR\t^\n",
    "9\t         Bitwise OR                         \t|\n",
    "10\t        Comparison Operators\t            >=  <=  >  <\n",
    "11\t       Equality Operators\t                ==  !=\n",
    "12\t      Assignment Operators \t                =  +=  -=  /=  *=\n",
    "13\t      Identity and membership operators\t    is, is not, in, not in\n",
    "14\t      Logical Operators   \t                 and, or, not\n",
    "\n",
    "\n",
    "\n",
    "\n",
    "\n",
    "\n"
   ]
  },
  {
   "cell_type": "code",
   "execution_count": 13,
   "metadata": {},
   "outputs": [
    {
     "name": "stdout",
     "output_type": "stream",
     "text": [
      "the sum is 30\n",
      "the diff is -10\n",
      "the mul of a and b is 200\n",
      "the division is 0.5\n"
     ]
    }
   ],
   "source": [
    "#function of expressions\n",
    "#Expression perform operations\n",
    "#Arithemetic operation\n",
    "a=10\n",
    "b=20\n",
    "c=a+b\n",
    "print(\"the sum is \"+str(c))\n",
    "c=a-b\n",
    "print(\"the diff is \"+str(c))\n",
    "c=a*b\n",
    "print(\"the mul of a and b is \" +str(c))\n",
    "c=a/b\n",
    "print(\"the division is \"+str(c))"
   ]
  },
  {
   "cell_type": "code",
   "execution_count": 14,
   "metadata": {},
   "outputs": [
    {
     "name": "stdout",
     "output_type": "stream",
     "text": [
      "False\n",
      "True\n",
      "True\n"
     ]
    }
   ],
   "source": [
    "#logical expression\n",
    "P = (10 == 9)\n",
    "Q = (7 > 5)\n",
    "  \n",
    "# Logical Expressions\n",
    "R = P and Q\n",
    "S = P or Q\n",
    "T = not P\n",
    "  \n",
    "print(R)\n",
    "print(S)\n",
    "print(T)"
   ]
  },
  {
   "cell_type": "code",
   "execution_count": 15,
   "metadata": {},
   "outputs": [
    {
     "name": "stdout",
     "output_type": "stream",
     "text": [
      "22\n",
      "52\n",
      "22\n"
     ]
    }
   ],
   "source": [
    "# Multi-operator expression\n",
    "  \n",
    "a = 10 + 3 * 4\n",
    "print(a)\n",
    "  \n",
    "b = (10 + 3) * 4\n",
    "print(b)\n",
    "  \n",
    "c = 10 + (3 * 4)\n",
    "print(c)"
   ]
  },
  {
   "cell_type": "raw",
   "metadata": {},
   "source": [
    "5. This assignment statements, like spam = 10. What is the difference between an\n",
    "expression and a statement?"
   ]
  },
  {
   "cell_type": "raw",
   "metadata": {},
   "source": [
    "This assignment statements, like spam = 10.It indicates the value 10 is assigned to variable spam.\n",
    "Here Spam is a variable and 10 an int value.\n",
    "\n",
    "Difference between an expression and a statement:\n",
    "    \n",
    "Statement:Statements represent an action or command .A statement is a complete line of code that performs some action.e.g print statements, assignment statements. \n",
    "eg.print(\"Hello world\") is a statement\n",
    "a=\"ineuron\" is an assignment statement in which a string is assigned to variable a\n",
    "\n",
    "Expression:Expression is a combination of variables, operations and values that yields a result value. An expression is something that can be reduced to a value.An expression is any section of the code that evaluates to a value.\n",
    "12+3*4 is an expression which contains different operators.\n",
    "    "
   ]
  },
  {
   "cell_type": "raw",
   "metadata": {},
   "source": [
    "6. After running the following code, what does the variable bacon contain?\n",
    "bacon = 22\n",
    "bacon + 1"
   ]
  },
  {
   "cell_type": "code",
   "execution_count": 16,
   "metadata": {},
   "outputs": [
    {
     "data": {
      "text/plain": [
       "23"
      ]
     },
     "execution_count": 16,
     "metadata": {},
     "output_type": "execute_result"
    }
   ],
   "source": [
    "bacon = 22 #value 22 is assigned to variable bacon. \n",
    "bacon + 1 #1 added to 22 so it gives 23"
   ]
  },
  {
   "cell_type": "code",
   "execution_count": 17,
   "metadata": {},
   "outputs": [
    {
     "data": {
      "text/plain": [
       "22"
      ]
     },
     "execution_count": 17,
     "metadata": {},
     "output_type": "execute_result"
    }
   ],
   "source": [
    "bacon # bacon gives 22 only because 22 is only stored in bacon .we have not assign 23 to bacon. if we do bacon= bacon+1 gives bacon =23"
   ]
  },
  {
   "cell_type": "raw",
   "metadata": {},
   "source": [
    "7.What should the values of the following two terms be?\n",
    "&#39;spam&#39; + &#39;spamspam&#39;\n",
    "&#39;spam&#39; * 3\n"
   ]
  },
  {
   "cell_type": "raw",
   "metadata": {},
   "source": [
    "All the values show invalid or syntax error.\n",
    "&#39;-& is a logical expression and it is given with a comment 39 so it will not execute \n",
    "spam&#39; two values are not given with and operation unjustified values. \n",
    "+ &#39;-it only contain operations without any number we cannot perform any operation\n",
    "spamspam&#39;-no operation perform with only 1 operand and 1 comment statement\n",
    "* 3-we can perform multiplication operation between two values.can't use starred expression here"
   ]
  },
  {
   "cell_type": "raw",
   "metadata": {},
   "source": [
    "8. Why is eggs a valid variable name while 100 is invalid?"
   ]
  },
  {
   "cell_type": "raw",
   "metadata": {},
   "source": [
    "Rules for Python variables:\n",
    "A variable name must start with a letter or the underscore character\n",
    "A variable name cannot start with a number\n",
    "A variable name can only contain alpha-numeric characters and underscores (A-z, 0-9, and _ )\n",
    "Variable names are case-sensitive (age, Age and AGE are three different variables)\n",
    "\n",
    "Variables name cannot start with anumber because of that 100 is invalid variable name.\n",
    "A variable name can start with letter so eggs is valid variable name\n"
   ]
  },
  {
   "cell_type": "raw",
   "metadata": {},
   "source": [
    "9. What three functions can be used to get the integer, floating-point number, or string\n",
    "version of a value?\n",
    "Three functions can be used to get the integer, floating-point number, or string version of a value:\n",
    "int()\n",
    "float()\n",
    "str()"
   ]
  },
  {
   "cell_type": "code",
   "execution_count": 1,
   "metadata": {},
   "outputs": [
    {
     "data": {
      "text/plain": [
       "35"
      ]
     },
     "execution_count": 1,
     "metadata": {},
     "output_type": "execute_result"
    }
   ],
   "source": [
    "a=35.5\n",
    "int(a)"
   ]
  },
  {
   "cell_type": "code",
   "execution_count": 2,
   "metadata": {},
   "outputs": [
    {
     "data": {
      "text/plain": [
       "97.0"
      ]
     },
     "execution_count": 2,
     "metadata": {},
     "output_type": "execute_result"
    }
   ],
   "source": [
    "b=97\n",
    "float(b)"
   ]
  },
  {
   "cell_type": "code",
   "execution_count": 3,
   "metadata": {},
   "outputs": [
    {
     "data": {
      "text/plain": [
       "'67'"
      ]
     },
     "execution_count": 3,
     "metadata": {},
     "output_type": "execute_result"
    }
   ],
   "source": [
    "a=67\n",
    "str(a)"
   ]
  },
  {
   "cell_type": "raw",
   "metadata": {},
   "source": [
    "10. Why does this expression cause an error? How can you fix it? &#39;I have eaten &#39; + 99 + &#39; burritos.&#39;"
   ]
  },
  {
   "cell_type": "code",
   "execution_count": 4,
   "metadata": {},
   "outputs": [
    {
     "ename": "SyntaxError",
     "evalue": "invalid syntax (<ipython-input-4-665dfdaebbf0>, line 1)",
     "output_type": "error",
     "traceback": [
      "\u001b[1;36m  File \u001b[1;32m\"<ipython-input-4-665dfdaebbf0>\"\u001b[1;36m, line \u001b[1;32m1\u001b[0m\n\u001b[1;33m    &#39;I have eaten &#39; + 99 + &#39; burritos.&#39;\u001b[0m\n\u001b[1;37m    ^\u001b[0m\n\u001b[1;31mSyntaxError\u001b[0m\u001b[1;31m:\u001b[0m invalid syntax\n"
     ]
    }
   ],
   "source": [
    "&#39;I have eaten &#39; + 99 + &#39; burritos.&#39;"
   ]
  },
  {
   "cell_type": "code",
   "execution_count": 12,
   "metadata": {},
   "outputs": [
    {
     "name": "stdout",
     "output_type": "stream",
     "text": [
      "I have eaten&#39;\n",
      "+99+ &#39;\n",
      "burritos.&#39;\n"
     ]
    }
   ],
   "source": [
    "\"\"\"This expression cause an error because of invalid syntax we perform and operation with any variable the rest values\n",
    "are in comment.\"\"\"\n",
    "#way of fixing it\n",
    "a='&#39;'\n",
    "print(\"I have eaten\" +str(a))\n",
    "b='+99+'\n",
    "print(b,a)\n",
    "\n",
    "print(\"burritos.\"+str(a))\n",
    "\n"
   ]
  },
  {
   "cell_type": "code",
   "execution_count": 13,
   "metadata": {},
   "outputs": [
    {
     "name": "stdout",
     "output_type": "stream",
     "text": [
      "&#39;I have eaten &#39; + 99 + &#39; burritos.&#39;\n"
     ]
    }
   ],
   "source": [
    "print(\"&#39;I have eaten &#39; + 99 + &#39; burritos.&#39;\")"
   ]
  },
  {
   "cell_type": "code",
   "execution_count": null,
   "metadata": {},
   "outputs": [],
   "source": []
  }
 ],
 "metadata": {
  "kernelspec": {
   "display_name": "Python 3",
   "language": "python",
   "name": "python3"
  },
  "language_info": {
   "codemirror_mode": {
    "name": "ipython",
    "version": 3
   },
   "file_extension": ".py",
   "mimetype": "text/x-python",
   "name": "python",
   "nbconvert_exporter": "python",
   "pygments_lexer": "ipython3",
   "version": "3.8.3"
  }
 },
 "nbformat": 4,
 "nbformat_minor": 4
}
